{
 "cells": [
  {
   "cell_type": "markdown",
   "metadata": {
    "id": "GL56whFAvNE3"
   },
   "source": [
    "# Задание лабораторной работы\n"
   ]
  },
  {
   "cell_type": "markdown",
   "metadata": {
    "id": "jFP0R4S4vPrJ"
   },
   "source": [
    "Для произвольного предложения или текста решить следующие задачи:\n",
    "\n",
    "- Токенизация.\n",
    "- Частеречная разметка.\n",
    "- Лемматизация.\n",
    "- Выделение (распознавание) именованных сущностей.\n",
    "- Разбор предложения."
   ]
  },
  {
   "cell_type": "markdown",
   "metadata": {
    "id": "84yMTQdlvVjr"
   },
   "source": [
    "# Выполнение работы"
   ]
  },
  {
   "cell_type": "markdown",
   "metadata": {
    "id": "AQgGeX_We4fS"
   },
   "source": [
    "Исходный текст:"
   ]
  },
  {
   "cell_type": "code",
   "execution_count": 34,
   "metadata": {
    "id": "0sXtae-Ce1KW"
   },
   "outputs": [],
   "source": [
    "text = 'Пятнадцатиэтажный музейный комплекс с концертным залом построят на Малой Почтовой улице в Басманном районе. Там разместят частную коллекцию произведений искусства. 4 этажа займут офисы, а верхний уровень отведен под ресторан с видовой террасой.'"
   ]
  },
  {
   "cell_type": "markdown",
   "metadata": {
    "id": "iQtUryzKCbHp"
   },
   "source": [
    "## Токенизация"
   ]
  },
  {
   "cell_type": "code",
   "execution_count": 35,
   "metadata": {
    "colab": {
     "base_uri": "https://localhost:8080/"
    },
    "id": "m1rC9H2WfB9C",
    "outputId": "8c4fa01a-f51a-4503-b98b-b753f0d2be0d"
   },
   "outputs": [
    {
     "name": "stdout",
     "output_type": "stream",
     "text": [
      "Requirement already satisfied: nltk in c:\\users\\firry\\appdata\\local\\programs\\python\\python312\\lib\\site-packages (3.8.1)\n",
      "Requirement already satisfied: click in c:\\users\\firry\\appdata\\local\\programs\\python\\python312\\lib\\site-packages (from nltk) (8.1.7)\n",
      "Requirement already satisfied: joblib in c:\\users\\firry\\appdata\\local\\programs\\python\\python312\\lib\\site-packages (from nltk) (1.4.2)\n",
      "Requirement already satisfied: regex>=2021.8.3 in c:\\users\\firry\\appdata\\local\\programs\\python\\python312\\lib\\site-packages (from nltk) (2024.5.15)\n",
      "Requirement already satisfied: tqdm in c:\\users\\firry\\appdata\\local\\programs\\python\\python312\\lib\\site-packages (from nltk) (4.66.4)\n",
      "Requirement already satisfied: colorama in c:\\users\\firry\\appdata\\local\\programs\\python\\python312\\lib\\site-packages (from click->nltk) (0.4.6)\n"
     ]
    }
   ],
   "source": [
    "!pip install nltk"
   ]
  },
  {
   "cell_type": "code",
   "execution_count": 36,
   "metadata": {
    "colab": {
     "base_uri": "https://localhost:8080/"
    },
    "id": "TR7kstn5fpY0",
    "outputId": "26ab8334-d10b-4312-c5ad-d0f3c93b82fe"
   },
   "outputs": [
    {
     "name": "stderr",
     "output_type": "stream",
     "text": [
      "[nltk_data] Downloading package punkt to\n",
      "[nltk_data]     C:\\Users\\firry\\AppData\\Roaming\\nltk_data...\n",
      "[nltk_data]   Package punkt is already up-to-date!\n"
     ]
    },
    {
     "data": {
      "text/plain": [
       "True"
      ]
     },
     "execution_count": 36,
     "metadata": {},
     "output_type": "execute_result"
    }
   ],
   "source": [
    "import nltk\n",
    "from nltk.tokenize import punkt\n",
    "nltk.download('punkt')"
   ]
  },
  {
   "cell_type": "code",
   "execution_count": 37,
   "metadata": {
    "colab": {
     "base_uri": "https://localhost:8080/"
    },
    "id": "jmibViQzfrEe",
    "outputId": "1d107727-0a60-4308-c771-db71fba030fa"
   },
   "outputs": [
    {
     "data": {
      "text/plain": [
       "['BlanklineTokenizer',\n",
       " 'LegalitySyllableTokenizer',\n",
       " 'LineTokenizer',\n",
       " 'MWETokenizer',\n",
       " 'NLTKWordTokenizer',\n",
       " 'PunktSentenceTokenizer',\n",
       " 'RegexpTokenizer',\n",
       " 'ReppTokenizer',\n",
       " 'SExprTokenizer',\n",
       " 'SpaceTokenizer',\n",
       " 'StanfordSegmenter',\n",
       " 'SyllableTokenizer',\n",
       " 'TabTokenizer',\n",
       " 'TextTilingTokenizer',\n",
       " 'ToktokTokenizer',\n",
       " 'TreebankWordDetokenizer',\n",
       " 'TreebankWordTokenizer',\n",
       " 'TweetTokenizer']"
      ]
     },
     "execution_count": 37,
     "metadata": {},
     "output_type": "execute_result"
    }
   ],
   "source": [
    "from nltk import tokenize\n",
    "dir(tokenize)[:18]"
   ]
  },
  {
   "cell_type": "code",
   "execution_count": 38,
   "metadata": {
    "colab": {
     "base_uri": "https://localhost:8080/"
    },
    "id": "1wFV57trftNt",
    "outputId": "9fc36a3c-baed-497a-e2cb-b52046fb810e"
   },
   "outputs": [
    {
     "data": {
      "text/plain": [
       "['Пятнадцатиэтажный',\n",
       " 'музейный',\n",
       " 'комплекс',\n",
       " 'с',\n",
       " 'концертным',\n",
       " 'залом',\n",
       " 'построят',\n",
       " 'на',\n",
       " 'Малой',\n",
       " 'Почтовой',\n",
       " 'улице',\n",
       " 'в',\n",
       " 'Басманном',\n",
       " 'районе',\n",
       " '.',\n",
       " 'Там',\n",
       " 'разместят',\n",
       " 'частную',\n",
       " 'коллекцию',\n",
       " 'произведений',\n",
       " 'искусства',\n",
       " '.',\n",
       " '4',\n",
       " 'этажа',\n",
       " 'займут',\n",
       " 'офисы',\n",
       " ',',\n",
       " 'а',\n",
       " 'верхний',\n",
       " 'уровень',\n",
       " 'отведен',\n",
       " 'под',\n",
       " 'ресторан',\n",
       " 'с',\n",
       " 'видовой',\n",
       " 'террасой',\n",
       " '.']"
      ]
     },
     "execution_count": 38,
     "metadata": {},
     "output_type": "execute_result"
    }
   ],
   "source": [
    "nltk_tk = nltk.WordPunctTokenizer()\n",
    "nltk_tk.tokenize(text)"
   ]
  },
  {
   "cell_type": "markdown",
   "metadata": {
    "id": "D00Gf9QOf0bE"
   },
   "source": [
    "Токенизация по предложениям:"
   ]
  },
  {
   "cell_type": "code",
   "execution_count": 39,
   "metadata": {
    "colab": {
     "base_uri": "https://localhost:8080/"
    },
    "id": "3Ee7XMWEfv_o",
    "outputId": "a12020ab-e2b1-4efa-92ac-11d5e545e30b"
   },
   "outputs": [
    {
     "name": "stdout",
     "output_type": "stream",
     "text": [
      "3\n"
     ]
    },
    {
     "data": {
      "text/plain": [
       "['Пятнадцатиэтажный музейный комплекс с концертным залом построят на Малой Почтовой улице в Басманном районе.',\n",
       " 'Там разместят частную коллекцию произведений искусства.',\n",
       " '4 этажа займут офисы, а верхний уровень отведен под ресторан с видовой террасой.']"
      ]
     },
     "execution_count": 39,
     "metadata": {},
     "output_type": "execute_result"
    }
   ],
   "source": [
    "nltk_tk_sents = nltk.tokenize.sent_tokenize(text)\n",
    "print(len(nltk_tk_sents))\n",
    "nltk_tk_sents"
   ]
  },
  {
   "cell_type": "code",
   "execution_count": 40,
   "metadata": {
    "colab": {
     "base_uri": "https://localhost:8080/"
    },
    "id": "zIgjHS_hf3D-",
    "outputId": "93aa7074-ae31-47d7-e77d-6e00385959ad"
   },
   "outputs": [
    {
     "name": "stdout",
     "output_type": "stream",
     "text": [
      "Requirement already satisfied: razdel in c:\\users\\firry\\appdata\\local\\programs\\python\\python312\\lib\\site-packages (0.5.0)\n"
     ]
    }
   ],
   "source": [
    "!pip install razdel"
   ]
  },
  {
   "cell_type": "code",
   "execution_count": 41,
   "metadata": {
    "id": "pBoNE3f4f8zs"
   },
   "outputs": [],
   "source": [
    "from razdel import tokenize, sentenize"
   ]
  },
  {
   "cell_type": "code",
   "execution_count": 42,
   "metadata": {
    "colab": {
     "base_uri": "https://localhost:8080/"
    },
    "id": "ODq0xuetf_3Y",
    "outputId": "f0f02746-d03a-4091-e8f2-dbd2c8a995e6"
   },
   "outputs": [
    {
     "data": {
      "text/plain": [
       "[Substring(0, 17, 'Пятнадцатиэтажный'),\n",
       " Substring(18, 26, 'музейный'),\n",
       " Substring(27, 35, 'комплекс'),\n",
       " Substring(36, 37, 'с'),\n",
       " Substring(38, 48, 'концертным'),\n",
       " Substring(49, 54, 'залом'),\n",
       " Substring(55, 63, 'построят'),\n",
       " Substring(64, 66, 'на'),\n",
       " Substring(67, 72, 'Малой'),\n",
       " Substring(73, 81, 'Почтовой'),\n",
       " Substring(82, 87, 'улице'),\n",
       " Substring(88, 89, 'в'),\n",
       " Substring(90, 99, 'Басманном'),\n",
       " Substring(100, 106, 'районе'),\n",
       " Substring(106, 107, '.'),\n",
       " Substring(108, 111, 'Там'),\n",
       " Substring(112, 121, 'разместят'),\n",
       " Substring(122, 129, 'частную'),\n",
       " Substring(130, 139, 'коллекцию'),\n",
       " Substring(140, 152, 'произведений'),\n",
       " Substring(153, 162, 'искусства'),\n",
       " Substring(162, 163, '.'),\n",
       " Substring(164, 165, '4'),\n",
       " Substring(166, 171, 'этажа'),\n",
       " Substring(172, 178, 'займут'),\n",
       " Substring(179, 184, 'офисы'),\n",
       " Substring(184, 185, ','),\n",
       " Substring(186, 187, 'а'),\n",
       " Substring(188, 195, 'верхний'),\n",
       " Substring(196, 203, 'уровень'),\n",
       " Substring(204, 211, 'отведен'),\n",
       " Substring(212, 215, 'под'),\n",
       " Substring(216, 224, 'ресторан'),\n",
       " Substring(225, 226, 'с'),\n",
       " Substring(227, 234, 'видовой'),\n",
       " Substring(235, 243, 'террасой'),\n",
       " Substring(243, 244, '.')]"
      ]
     },
     "execution_count": 42,
     "metadata": {},
     "output_type": "execute_result"
    }
   ],
   "source": [
    "n_tok_text = list(tokenize(text))\n",
    "n_tok_text"
   ]
  },
  {
   "cell_type": "code",
   "execution_count": 43,
   "metadata": {
    "colab": {
     "base_uri": "https://localhost:8080/"
    },
    "id": "7VX0MCdagAIS",
    "outputId": "212bd9a7-3fb5-4e36-f56f-9aee26bfdddd"
   },
   "outputs": [
    {
     "data": {
      "text/plain": [
       "['Пятнадцатиэтажный',\n",
       " 'музейный',\n",
       " 'комплекс',\n",
       " 'с',\n",
       " 'концертным',\n",
       " 'залом',\n",
       " 'построят',\n",
       " 'на',\n",
       " 'Малой',\n",
       " 'Почтовой',\n",
       " 'улице',\n",
       " 'в',\n",
       " 'Басманном',\n",
       " 'районе',\n",
       " '.',\n",
       " 'Там',\n",
       " 'разместят',\n",
       " 'частную',\n",
       " 'коллекцию',\n",
       " 'произведений',\n",
       " 'искусства',\n",
       " '.',\n",
       " '4',\n",
       " 'этажа',\n",
       " 'займут',\n",
       " 'офисы',\n",
       " ',',\n",
       " 'а',\n",
       " 'верхний',\n",
       " 'уровень',\n",
       " 'отведен',\n",
       " 'под',\n",
       " 'ресторан',\n",
       " 'с',\n",
       " 'видовой',\n",
       " 'террасой',\n",
       " '.']"
      ]
     },
     "execution_count": 43,
     "metadata": {},
     "output_type": "execute_result"
    }
   ],
   "source": [
    "[_.text for _ in n_tok_text]"
   ]
  },
  {
   "cell_type": "code",
   "execution_count": 44,
   "metadata": {
    "colab": {
     "base_uri": "https://localhost:8080/"
    },
    "id": "0QhZzZ4bgCSO",
    "outputId": "9d9a28f1-8bb5-4c9f-f000-c7358a486698"
   },
   "outputs": [
    {
     "data": {
      "text/plain": [
       "[Substring(0,\n",
       "           107,\n",
       "           'Пятнадцатиэтажный музейный комплекс с концертным залом построят на Малой Почтовой улице в Басманном районе.'),\n",
       " Substring(108,\n",
       "           163,\n",
       "           'Там разместят частную коллекцию произведений искусства.'),\n",
       " Substring(164,\n",
       "           244,\n",
       "           '4 этажа займут офисы, а верхний уровень отведен под ресторан с видовой террасой.')]"
      ]
     },
     "execution_count": 44,
     "metadata": {},
     "output_type": "execute_result"
    }
   ],
   "source": [
    "n_sen_text = list(sentenize(text))\n",
    "n_sen_text"
   ]
  },
  {
   "cell_type": "code",
   "execution_count": 45,
   "metadata": {
    "colab": {
     "base_uri": "https://localhost:8080/"
    },
    "id": "FzwZgddHgEZW",
    "outputId": "f92d4976-bedf-4847-9560-1af71a91df4a"
   },
   "outputs": [
    {
     "data": {
      "text/plain": [
       "(['Пятнадцатиэтажный музейный комплекс с концертным залом построят на Малой Почтовой улице в Басманном районе.',\n",
       "  'Там разместят частную коллекцию произведений искусства.',\n",
       "  '4 этажа займут офисы, а верхний уровень отведен под ресторан с видовой террасой.'],\n",
       " 3)"
      ]
     },
     "execution_count": 45,
     "metadata": {},
     "output_type": "execute_result"
    }
   ],
   "source": [
    "[_.text for _ in n_sen_text], len([_.text for _ in n_sen_text])"
   ]
  },
  {
   "cell_type": "markdown",
   "metadata": {
    "id": "YVyOtiKsgHZ1"
   },
   "source": [
    "Токенизация для последующей обработки:"
   ]
  },
  {
   "cell_type": "code",
   "execution_count": 46,
   "metadata": {
    "id": "1XHWtSVwgGxc"
   },
   "outputs": [],
   "source": [
    "def n_sentenize(text):\n",
    "    n_sen_chunk = []\n",
    "    for sent in sentenize(text):\n",
    "        tokens = [_.text for _ in tokenize(sent.text)]\n",
    "        n_sen_chunk.append(tokens)\n",
    "    return n_sen_chunk"
   ]
  },
  {
   "cell_type": "code",
   "execution_count": 47,
   "metadata": {
    "colab": {
     "base_uri": "https://localhost:8080/"
    },
    "id": "mlxIREYJgL2b",
    "outputId": "cfb4815d-49ab-4606-c827-91824b169cf2"
   },
   "outputs": [
    {
     "data": {
      "text/plain": [
       "[['Пятнадцатиэтажный',\n",
       "  'музейный',\n",
       "  'комплекс',\n",
       "  'с',\n",
       "  'концертным',\n",
       "  'залом',\n",
       "  'построят',\n",
       "  'на',\n",
       "  'Малой',\n",
       "  'Почтовой',\n",
       "  'улице',\n",
       "  'в',\n",
       "  'Басманном',\n",
       "  'районе',\n",
       "  '.'],\n",
       " ['Там',\n",
       "  'разместят',\n",
       "  'частную',\n",
       "  'коллекцию',\n",
       "  'произведений',\n",
       "  'искусства',\n",
       "  '.'],\n",
       " ['4',\n",
       "  'этажа',\n",
       "  'займут',\n",
       "  'офисы',\n",
       "  ',',\n",
       "  'а',\n",
       "  'верхний',\n",
       "  'уровень',\n",
       "  'отведен',\n",
       "  'под',\n",
       "  'ресторан',\n",
       "  'с',\n",
       "  'видовой',\n",
       "  'террасой',\n",
       "  '.']]"
      ]
     },
     "execution_count": 47,
     "metadata": {},
     "output_type": "execute_result"
    }
   ],
   "source": [
    "n_sen_chunk = n_sentenize(text)\n",
    "n_sen_chunk"
   ]
  },
  {
   "cell_type": "markdown",
   "metadata": {
    "id": "CaBD5J6ygV7E"
   },
   "source": [
    "## Частеричная разметка"
   ]
  },
  {
   "cell_type": "code",
   "execution_count": 48,
   "metadata": {
    "colab": {
     "base_uri": "https://localhost:8080/"
    },
    "id": "Hhr427zjgQ1z",
    "outputId": "949a9bf9-3829-4a4c-9545-5634f4898b09"
   },
   "outputs": [
    {
     "name": "stdout",
     "output_type": "stream",
     "text": [
      "Requirement already satisfied: navec in c:\\users\\firry\\appdata\\local\\programs\\python\\python312\\lib\\site-packages (0.10.0)\n",
      "Requirement already satisfied: numpy in c:\\users\\firry\\appdata\\local\\programs\\python\\python312\\lib\\site-packages (from navec) (1.26.4)\n",
      "Requirement already satisfied: slovnet in c:\\users\\firry\\appdata\\local\\programs\\python\\python312\\lib\\site-packages (0.6.0)\n",
      "Requirement already satisfied: numpy in c:\\users\\firry\\appdata\\local\\programs\\python\\python312\\lib\\site-packages (from slovnet) (1.26.4)\n",
      "Requirement already satisfied: razdel in c:\\users\\firry\\appdata\\local\\programs\\python\\python312\\lib\\site-packages (from slovnet) (0.5.0)\n",
      "Requirement already satisfied: navec in c:\\users\\firry\\appdata\\local\\programs\\python\\python312\\lib\\site-packages (from slovnet) (0.10.0)\n"
     ]
    }
   ],
   "source": [
    "!pip install navec\n",
    "!pip install slovnet"
   ]
  },
  {
   "cell_type": "code",
   "execution_count": 49,
   "metadata": {
    "id": "e27nglYTgciD"
   },
   "outputs": [],
   "source": [
    "from navec import Navec\n",
    "from slovnet import Morph"
   ]
  },
  {
   "cell_type": "code",
   "execution_count": 50,
   "metadata": {
    "colab": {
     "base_uri": "https://localhost:8080/",
     "height": 315
    },
    "id": "RPF1Z-A5gfgG",
    "outputId": "75b4974b-c574-43e3-e7b5-f68504442bee"
   },
   "outputs": [],
   "source": [
    "# Файл необходимо скачать по ссылке https://github.com/natasha/navec#downloads\n",
    "navec = Navec.load('navec_news_v1_1B_250K_300d_100q.tar')"
   ]
  },
  {
   "cell_type": "code",
   "execution_count": 51,
   "metadata": {
    "id": "00Y1UxnYgh-S"
   },
   "outputs": [],
   "source": [
    "# Файл необходимо скачать по ссылке https://github.com/natasha/slovnet#downloads\n",
    "n_morph = Morph.load('slovnet_morph_news_v1.tar', batch_size=4)"
   ]
  },
  {
   "cell_type": "code",
   "execution_count": 52,
   "metadata": {
    "id": "sf7YOHn8gjYh"
   },
   "outputs": [],
   "source": [
    "morph_res = n_morph.navec(navec)"
   ]
  },
  {
   "cell_type": "code",
   "execution_count": 53,
   "metadata": {
    "id": "XwqyFGKXgkqf"
   },
   "outputs": [],
   "source": [
    "def print_pos(markup):\n",
    "    for token in markup.tokens:\n",
    "        print('{} - {}'.format(token.text, token.tag))\n"
   ]
  },
  {
   "cell_type": "code",
   "execution_count": 54,
   "metadata": {
    "id": "iQDet6g-gqvR"
   },
   "outputs": [
    {
     "name": "stdout",
     "output_type": "stream",
     "text": [
      "Пятнадцатиэтажный - ADJ|Case=Nom|Degree=Pos|Gender=Masc|Number=Sing\n",
      "музейный - ADJ|Animacy=Inan|Case=Acc|Degree=Pos|Gender=Masc|Number=Sing\n",
      "комплекс - NOUN|Animacy=Inan|Case=Nom|Gender=Masc|Number=Sing\n",
      "с - ADP\n",
      "концертным - ADJ|Case=Ins|Degree=Pos|Gender=Masc|Number=Sing\n",
      "залом - NOUN|Animacy=Inan|Case=Ins|Gender=Masc|Number=Sing\n",
      "построят - VERB|Aspect=Perf|Mood=Ind|Number=Plur|Person=3|Tense=Fut|VerbForm=Fin|Voice=Act\n",
      "на - ADP\n",
      "Малой - ADJ|Case=Loc|Degree=Pos|Gender=Fem|Number=Sing\n",
      "Почтовой - ADJ|Case=Loc|Degree=Pos|Gender=Fem|Number=Sing\n",
      "улице - NOUN|Animacy=Inan|Case=Loc|Gender=Fem|Number=Sing\n",
      "в - ADP\n",
      "Басманном - ADJ|Case=Loc|Degree=Pos|Gender=Masc|Number=Sing\n",
      "районе - NOUN|Animacy=Inan|Case=Loc|Gender=Masc|Number=Sing\n",
      ". - PUNCT\n",
      "Там - ADV|Degree=Pos\n",
      "разместят - VERB|Aspect=Perf|Mood=Ind|Number=Plur|Person=3|Tense=Fut|VerbForm=Fin|Voice=Act\n",
      "частную - ADJ|Case=Acc|Degree=Pos|Gender=Fem|Number=Sing\n",
      "коллекцию - NOUN|Animacy=Inan|Case=Acc|Gender=Fem|Number=Sing\n",
      "произведений - NOUN|Animacy=Inan|Case=Gen|Gender=Neut|Number=Plur\n",
      "искусства - NOUN|Animacy=Inan|Case=Gen|Gender=Neut|Number=Sing\n",
      ". - PUNCT\n",
      "4 - NUM\n",
      "этажа - NOUN|Animacy=Inan|Case=Gen|Gender=Masc|Number=Sing\n",
      "займут - VERB|Aspect=Perf|Mood=Ind|Number=Plur|Person=3|Tense=Fut|VerbForm=Fin|Voice=Act\n",
      "офисы - NOUN|Animacy=Inan|Case=Nom|Gender=Masc|Number=Plur\n",
      ", - PUNCT\n",
      "а - CCONJ\n",
      "верхний - ADJ|Case=Nom|Degree=Pos|Gender=Masc|Number=Sing\n",
      "уровень - NOUN|Animacy=Inan|Case=Nom|Gender=Masc|Number=Sing\n",
      "отведен - VERB|Aspect=Perf|Gender=Masc|Number=Sing|Tense=Past|Variant=Short|VerbForm=Part|Voice=Pass\n",
      "под - ADP\n",
      "ресторан - NOUN|Animacy=Inan|Case=Acc|Gender=Masc|Number=Sing\n",
      "с - ADP\n",
      "видовой - ADJ|Case=Ins|Degree=Pos|Gender=Fem|Number=Sing\n",
      "террасой - NOUN|Animacy=Inan|Case=Ins|Gender=Fem|Number=Sing\n",
      ". - PUNCT\n"
     ]
    },
    {
     "data": {
      "text/plain": [
       "[None, None, None]"
      ]
     },
     "execution_count": 54,
     "metadata": {},
     "output_type": "execute_result"
    }
   ],
   "source": [
    "n_text_markup = list(_ for _ in n_morph.map(n_sen_chunk))\n",
    "[print_pos(x) for x in n_text_markup]"
   ]
  },
  {
   "cell_type": "markdown",
   "metadata": {
    "id": "2Ac-t2ZGgvUL"
   },
   "source": [
    "## Лемматизация"
   ]
  },
  {
   "cell_type": "code",
   "execution_count": 55,
   "metadata": {
    "id": "eNjN_1VKgwOF"
   },
   "outputs": [
    {
     "name": "stdout",
     "output_type": "stream",
     "text": [
      "Requirement already satisfied: natasha in c:\\users\\firry\\appdata\\local\\programs\\python\\python312\\lib\\site-packages (1.6.0)\n",
      "Requirement already satisfied: pymorphy2 in c:\\users\\firry\\appdata\\local\\programs\\python\\python312\\lib\\site-packages (from natasha) (0.9.1)\n",
      "Requirement already satisfied: razdel>=0.5.0 in c:\\users\\firry\\appdata\\local\\programs\\python\\python312\\lib\\site-packages (from natasha) (0.5.0)\n",
      "Requirement already satisfied: navec>=0.9.0 in c:\\users\\firry\\appdata\\local\\programs\\python\\python312\\lib\\site-packages (from natasha) (0.10.0)\n",
      "Requirement already satisfied: slovnet>=0.6.0 in c:\\users\\firry\\appdata\\local\\programs\\python\\python312\\lib\\site-packages (from natasha) (0.6.0)\n",
      "Requirement already satisfied: yargy>=0.16.0 in c:\\users\\firry\\appdata\\local\\programs\\python\\python312\\lib\\site-packages (from natasha) (0.16.0)\n",
      "Requirement already satisfied: ipymarkup>=0.8.0 in c:\\users\\firry\\appdata\\local\\programs\\python\\python312\\lib\\site-packages (from natasha) (0.9.0)\n",
      "Requirement already satisfied: intervaltree>=3 in c:\\users\\firry\\appdata\\local\\programs\\python\\python312\\lib\\site-packages (from ipymarkup>=0.8.0->natasha) (3.1.0)\n",
      "Requirement already satisfied: numpy in c:\\users\\firry\\appdata\\local\\programs\\python\\python312\\lib\\site-packages (from navec>=0.9.0->natasha) (1.26.4)\n",
      "Requirement already satisfied: dawg-python>=0.7.1 in c:\\users\\firry\\appdata\\local\\programs\\python\\python312\\lib\\site-packages (from pymorphy2->natasha) (0.7.2)\n",
      "Requirement already satisfied: pymorphy2-dicts-ru<3.0,>=2.4 in c:\\users\\firry\\appdata\\local\\programs\\python\\python312\\lib\\site-packages (from pymorphy2->natasha) (2.4.417127.4579844)\n",
      "Requirement already satisfied: docopt>=0.6 in c:\\users\\firry\\appdata\\local\\programs\\python\\python312\\lib\\site-packages (from pymorphy2->natasha) (0.6.2)\n",
      "Requirement already satisfied: sortedcontainers<3.0,>=2.0 in c:\\users\\firry\\appdata\\local\\programs\\python\\python312\\lib\\site-packages (from intervaltree>=3->ipymarkup>=0.8.0->natasha) (2.4.0)\n",
      "Requirement already satisfied: setuptools in c:\\users\\firry\\appdata\\local\\programs\\python\\python312\\lib\\site-packages (70.0.0)\n"
     ]
    }
   ],
   "source": [
    "!pip install natasha\n",
    "!pip install setuptools"
   ]
  },
  {
   "cell_type": "code",
   "execution_count": 56,
   "metadata": {
    "id": "R84BXatYg2t_"
   },
   "outputs": [],
   "source": [
    "from natasha import Doc, Segmenter, NewsEmbedding, NewsMorphTagger, MorphVocab"
   ]
  },
  {
   "cell_type": "code",
   "execution_count": 57,
   "metadata": {
    "id": "z2op8QFMg3-v"
   },
   "outputs": [],
   "source": [
    "def n_lemmatize(text):\n",
    "    emb = NewsEmbedding()\n",
    "    morph_tagger = NewsMorphTagger(emb)\n",
    "    segmenter = Segmenter()\n",
    "    morph_vocab = MorphVocab()\n",
    "    doc = Doc(text)\n",
    "    doc.segment(segmenter)\n",
    "    doc.tag_morph(morph_tagger)\n",
    "    for token in doc.tokens:\n",
    "        token.lemmatize(morph_vocab)\n",
    "    return doc"
   ]
  },
  {
   "cell_type": "code",
   "execution_count": 58,
   "metadata": {
    "id": "Z8BCSF6jg5G7"
   },
   "outputs": [
    {
     "data": {
      "text/plain": [
       "{'Пятнадцатиэтажный': 'пятнадцатиэтажный',\n",
       " 'музейный': 'музейный',\n",
       " 'комплекс': 'комплекс',\n",
       " 'с': 'с',\n",
       " 'концертным': 'концертный',\n",
       " 'залом': 'зал',\n",
       " 'построят': 'построить',\n",
       " 'на': 'на',\n",
       " 'Малой': 'малый',\n",
       " 'Почтовой': 'почтовый',\n",
       " 'улице': 'улица',\n",
       " 'в': 'в',\n",
       " 'Басманном': 'басманный',\n",
       " 'районе': 'район',\n",
       " '.': '.',\n",
       " 'Там': 'там',\n",
       " 'разместят': 'разместить',\n",
       " 'частную': 'частный',\n",
       " 'коллекцию': 'коллекция',\n",
       " 'произведений': 'произведение',\n",
       " 'искусства': 'искусство',\n",
       " '4': '4',\n",
       " 'этажа': 'этаж',\n",
       " 'займут': 'занять',\n",
       " 'офисы': 'офис',\n",
       " ',': ',',\n",
       " 'а': 'а',\n",
       " 'верхний': 'верхний',\n",
       " 'уровень': 'уровень',\n",
       " 'отведен': 'отвести',\n",
       " 'под': 'под',\n",
       " 'ресторан': 'ресторан',\n",
       " 'видовой': 'видовой',\n",
       " 'террасой': 'терраса'}"
      ]
     },
     "execution_count": 58,
     "metadata": {},
     "output_type": "execute_result"
    }
   ],
   "source": [
    "n_doc = n_lemmatize(text)\n",
    "{_.text: _.lemma for _ in n_doc.tokens}"
   ]
  },
  {
   "cell_type": "markdown",
   "metadata": {
    "id": "NIJTzNjKg88M"
   },
   "source": [
    "## Выделение (распознавание) именованных сущностей"
   ]
  },
  {
   "cell_type": "code",
   "execution_count": 59,
   "metadata": {
    "id": "TgDmEwvDhBrf"
   },
   "outputs": [
    {
     "name": "stdout",
     "output_type": "stream",
     "text": [
      "Requirement already satisfied: ipymarkup in c:\\users\\firry\\appdata\\local\\programs\\python\\python312\\lib\\site-packages (0.9.0)\n",
      "Requirement already satisfied: intervaltree>=3 in c:\\users\\firry\\appdata\\local\\programs\\python\\python312\\lib\\site-packages (from ipymarkup) (3.1.0)\n",
      "Requirement already satisfied: sortedcontainers<3.0,>=2.0 in c:\\users\\firry\\appdata\\local\\programs\\python\\python312\\lib\\site-packages (from intervaltree>=3->ipymarkup) (2.4.0)\n"
     ]
    }
   ],
   "source": [
    "!pip install ipymarkup"
   ]
  },
  {
   "cell_type": "code",
   "execution_count": 60,
   "metadata": {
    "id": "NgVuC8UVhAT-"
   },
   "outputs": [],
   "source": [
    "from slovnet import NER\n",
    "from ipymarkup import show_span_ascii_markup as show_markup"
   ]
  },
  {
   "cell_type": "code",
   "execution_count": 61,
   "metadata": {
    "id": "p_HbWAgxhDm5"
   },
   "outputs": [],
   "source": [
    "# Файл необходимо скачать по ссылке https://github.com/natasha/slovnet#downloads\n",
    "ner = NER.load('slovnet_ner_news_v1.tar')\n",
    "ner_res = ner.navec(navec)\n",
    "markup_ner = ner(text)"
   ]
  },
  {
   "cell_type": "code",
   "execution_count": 62,
   "metadata": {
    "id": "1FIZ1yDthGCo"
   },
   "outputs": [
    {
     "data": {
      "text/plain": [
       "SpanMarkup(\n",
       "    text='Пятнадцатиэтажный музейный комплекс с концертным залом построят на Малой Почтовой улице в Басманном районе. Там разместят частную коллекцию произведений искусства. 4 этажа займут офисы, а верхний уровень отведен под ресторан с видовой террасой.',\n",
       "    spans=[Span(\n",
       "         start=67,\n",
       "         stop=87,\n",
       "         type='LOC'\n",
       "     ),\n",
       "     Span(\n",
       "         start=90,\n",
       "         stop=106,\n",
       "         type='LOC'\n",
       "     )]\n",
       ")"
      ]
     },
     "execution_count": 62,
     "metadata": {},
     "output_type": "execute_result"
    }
   ],
   "source": [
    "markup_ner"
   ]
  },
  {
   "cell_type": "code",
   "execution_count": 63,
   "metadata": {
    "id": "dAeHAsGRhH0q"
   },
   "outputs": [
    {
     "name": "stdout",
     "output_type": "stream",
     "text": [
      "Пятнадцатиэтажный музейный комплекс с концертным залом построят на \n",
      "Малой Почтовой улице в Басманном районе. Там разместят частную \n",
      "LOC─────────────────   LOC─────────────                        \n",
      "коллекцию произведений искусства. 4 этажа займут офисы, а верхний \n",
      "уровень отведен под ресторан с видовой террасой.\n"
     ]
    }
   ],
   "source": [
    "show_markup(markup_ner.text, markup_ner.spans)"
   ]
  },
  {
   "cell_type": "markdown",
   "metadata": {
    "id": "whdu3U_ghNNi"
   },
   "source": [
    "## Разбор предложения"
   ]
  },
  {
   "cell_type": "code",
   "execution_count": 64,
   "metadata": {
    "id": "WS7u3k7lhP1l"
   },
   "outputs": [],
   "source": [
    "from natasha import NewsSyntaxParser"
   ]
  },
  {
   "cell_type": "code",
   "execution_count": 65,
   "metadata": {
    "id": "sV4ciewPhRLu"
   },
   "outputs": [],
   "source": [
    "emb = NewsEmbedding()\n",
    "syntax_parser = NewsSyntaxParser(emb)"
   ]
  },
  {
   "cell_type": "code",
   "execution_count": 66,
   "metadata": {
    "id": "Q_mWdl1thSUk"
   },
   "outputs": [
    {
     "name": "stdout",
     "output_type": "stream",
     "text": [
      "        ┌──► Пятнадцатиэтажный amod\n",
      "        │ ┌► музейный          amod\n",
      "    ┌►┌─└─└─ комплекс          obj\n",
      "    │ │ ┌──► с                 case\n",
      "    │ │ │ ┌► концертным        amod\n",
      "    │ └►└─└─ залом             nmod\n",
      "┌─┌─└─────── построят          \n",
      "│ │   ┌────► на                case\n",
      "│ │   │ ┌──► Малой             amod\n",
      "│ │   │ │ ┌► Почтовой          amod\n",
      "│ └►┌─└─└─└─ улице             obl\n",
      "│   │   ┌──► в                 case\n",
      "│   │   │ ┌► Басманном         amod\n",
      "│   └──►└─└─ районе            nmod\n",
      "└──────────► .                 punct\n"
     ]
    }
   ],
   "source": [
    "n_doc.parse_syntax(syntax_parser)\n",
    "n_doc.sents[0].syntax.print()"
   ]
  }
 ],
 "metadata": {
  "colab": {
   "provenance": []
  },
  "kernelspec": {
   "display_name": "Python 3 (ipykernel)",
   "language": "python",
   "name": "python3"
  },
  "language_info": {
   "codemirror_mode": {
    "name": "ipython",
    "version": 3
   },
   "file_extension": ".py",
   "mimetype": "text/x-python",
   "name": "python",
   "nbconvert_exporter": "python",
   "pygments_lexer": "ipython3",
   "version": "3.12.3"
  }
 },
 "nbformat": 4,
 "nbformat_minor": 4
}
